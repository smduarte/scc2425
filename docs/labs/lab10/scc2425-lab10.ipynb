{
 "cells": [
  {
   "cell_type": "code",
   "execution_count": 17,
   "id": "6124872f-1263-4d07-b96e-d2cc3fba903e",
   "metadata": {
    "editable": true,
    "slideshow": {
     "slide_type": "skip"
    },
    "tags": [
     "hide_code"
    ]
   },
   "outputs": [],
   "source": [
    "\n",
    "!jupyter nbconvert --to html --TemplateExporter.exclude_code_cell=True --TemplateExporter.exclude_input_prompt=True --TemplateExporter.exclude_output_prompt=True scc2425-lab10.ipynb 2> /dev/null"
   ]
  },
  {
   "cell_type": "code",
   "execution_count": 18,
   "id": "0456807a-28f9-4ec5-ac2b-b9ff4d5ddb1f",
   "metadata": {
    "editable": true,
    "slideshow": {
     "slide_type": "skip"
    },
    "tags": [
     "hide_code"
    ]
   },
   "outputs": [],
   "source": [
    "!jupyter nbconvert --to slides --TemplateExporter.exclude_input_prompt=True --TemplateExporter.exclude_output_prompt=True scc2425-lab10.ipynb 2> /dev/null"
   ]
  },
  {
   "cell_type": "markdown",
   "id": "b3f0f5fd",
   "metadata": {
    "editable": true,
    "slideshow": {
     "slide_type": "slide"
    },
    "tags": []
   },
   "source": [
    "# Cloud Computing Systems\n",
    "## 2024/25\n",
    "\n",
    "Lab 10\n",
    "https://smduarte.github.io/scc2425/\n",
    "\n",
    "Sérgio Duarte, Kevin Gallagher "
   ]
  },
  {
   "cell_type": "markdown",
   "id": "05850652",
   "metadata": {
    "slideshow": {
     "slide_type": "slide"
    }
   },
   "source": [
    "# Goals\n",
    "\n",
    "+ Learn to use Docker for microservices\n",
    "+ Learn to launch docker containers in Azure\n",
    "+ Learn to create and use Kubernetes (k8s) yaml files\n",
    "+ Learn to use k8s to orcherstrate containers (Azure and Minikube)"
   ]
  },
  {
   "cell_type": "markdown",
   "id": "d5312564-9911-4579-b3b8-ccc20f9c934b",
   "metadata": {
    "slideshow": {
     "slide_type": "slide"
    }
   },
   "source": [
    "# Goals\n",
    "\n",
    "+ **Learn to use Docker for microservices**\n",
    "+ Learn to launch docker containers in Azure\n",
    "+ Learn to create and use Kubernetes (k8s) yaml files\n",
    "+ Learn to use k8s to orcherstrate containers (Azure and Minikube)"
   ]
  },
  {
   "cell_type": "markdown",
   "id": "ff1d18f5",
   "metadata": {
    "slideshow": {
     "slide_type": "slide"
    }
   },
   "source": [
    "# Documentation (Docker and Azure)\n",
    "\n",
    "\n",
    "### Docker\n",
    "\n",
    "[https://docs.docker.com/engine/reference/builder/](https://docs.docker.com/engine/reference/builder/)\n",
    " \n",
    "### Azure Container Instances\n",
    "\n",
    "[https://docs.microsoft.com/en-us/azure/container-instances/](https://docs.microsoft.com/en-us/azure/container-instances/)\n",
    "\n",
    "[https://docs.microsoft.com/en-us/azure/container-instances/container-instances-quickstart](https://docs.microsoft.com/en-us/azure/container-instances/container-instances-quickstart)\n",
    "\n",
    "\n"
   ]
  },
  {
   "cell_type": "markdown",
   "id": "93bee430",
   "metadata": {
    "slideshow": {
     "slide_type": "slide"
    }
   },
   "source": [
    "# Images vs Containers\n",
    "\n",
    "### Image\n",
    "\n",
    "A Docker image is the steps and resources necessary to create a container. Think of it like a blueprint for a house. A blueprint is not a house, but it teaches us how to build one.\n",
    "\n",
    "### Container\n",
    "\n",
    "A container is a running environment with an application and all the resources it needs to run. In our analogy, think of this like a house."
   ]
  },
  {
   "cell_type": "markdown",
   "id": "3a08af08-19ca-4b85-a2a6-dda33ec47ccd",
   "metadata": {
    "slideshow": {
     "slide_type": "slide"
    }
   },
   "source": [
    "# Creating a Docker Image\n",
    "\n",
    "### Create a new directory\n",
    "\n",
    "This directory should contain all of the resources (code, images, whatever) that you need to run the application.\n",
    "\n",
    "### Create a Dockerfile\n",
    "\n",
    "This file must be named `Dockerfile`. It cannot have any extension, or a lowercase d. This file will contain the instructions necessary to create the image."
   ]
  },
  {
   "cell_type": "markdown",
   "id": "6ce07535",
   "metadata": {
    "slideshow": {
     "slide_type": "slide"
    }
   },
   "source": [
    "# Dockerfile Example\n",
    "\n",
    "This Dockerfile creates an image for a webapp stored in a war file.\n",
    "\n",
    "```Dockerfile\n",
    "FROM tomcat:10.0-jdk17-openjdk\n",
    "WORKDIR /usr/local/tomcat\n",
    "ADD scc2324-lab10-1.0.war webapps\n",
    "EXPOSE 8080\n",
    "```\n",
    "Note: The EXPOSE 8080 line exposes port 8080 of this container to the outside world."
   ]
  },
  {
   "cell_type": "markdown",
   "id": "97886d5a-bc29-4177-b5d9-0930a96c895f",
   "metadata": {
    "slideshow": {
     "slide_type": "slide"
    }
   },
   "source": [
    "# Creating a Docker Image\n",
    "\n",
    "### Run the docker build command\n",
    "\n",
    "`docker build -t <tagname> <directory>`\n",
    "\n",
    "### Example\n",
    "\n",
    "`docker build -t scc2425-webapp .`"
   ]
  },
  {
   "cell_type": "markdown",
   "id": "6f262e89-8b77-4bcf-8abd-20b7ee98c83f",
   "metadata": {
    "slideshow": {
     "slide_type": "slide"
    }
   },
   "source": [
    "# Running a Docker Image\n",
    "\n",
    "### Run the docker run command\n",
    "\n",
    "`docker run [options] <tagname>`\n",
    "\n",
    "### Example\n",
    "\n",
    "`docker run -it --rm -p 8080:8080 scc2425-webapp`\n",
    "\n",
    "The -it option will run the container with an interactive terminal so you can see the webapp's terminal output, the -p option will map port 8080 on the host machine to 8080 in the container, and the --rm option will automatically delete the container when it is done executing."
   ]
  },
  {
   "cell_type": "markdown",
   "id": "69ada4bc-bc86-40eb-bb9e-650542712a00",
   "metadata": {
    "slideshow": {
     "slide_type": "skip"
    }
   },
   "source": [
    "# Making your Docker images available \n",
    "\n",
    "First create an account on Docker Hub. You can do this at [https://hub.docker.com/signup](https://hub.docker.com/signup).\n",
    "\n",
    "After create an account, use the `docker push` command like so:\n",
    "\n",
    "`docker push <username>/<tag>`\n",
    "\n",
    "### Example\n",
    "\n",
    "`docker push kcg295/scc2425-webapp`\n",
    "\n",
    "**NOTE**: Before doing this you will need to login using `docker login`\n",
    "\n"
   ]
  },
  {
   "cell_type": "markdown",
   "id": "48cac513-6821-45ad-a546-0349f1c3d8eb",
   "metadata": {
    "slideshow": {
     "slide_type": "slide"
    }
   },
   "source": [
    "# Goals\n",
    "\n",
    "+ Learn to use Docker for microservices\n",
    "+ **Learn to launch docker containers in Azure**\n",
    "+ Learn to create and use Kubernetes (k8s) yaml files\n",
    "+ Learn to use k8s to orcherstrate containers (Azure and Minikube)"
   ]
  },
  {
   "cell_type": "markdown",
   "id": "7bb06985",
   "metadata": {
    "slideshow": {
     "slide_type": "slide"
    }
   },
   "source": [
    "# Creating a container in Azure\n",
    "\n",
    "### Creating a resource group.\n",
    "\n",
    "You can create a resource group by running the following command:\n",
    "\n",
    "`az group create --name <resource-group-name> --location <resource-group-location>`\n",
    "\n",
    "### Example.\n",
    "\n",
    "`az group create --name scc2425-container-practice --location northeurope`\n"
   ]
  },
  {
   "cell_type": "markdown",
   "id": "f9e67008-0e00-4465-bde8-02f42d78c901",
   "metadata": {
    "slideshow": {
     "slide_type": "slide"
    }
   },
   "source": [
    "# Creating a container in Azure\n",
    "\n",
    "### Starting a container.\n",
    "\n",
    "You can start a container by running the following command:\n",
    "\n",
    "`az container create --resource-group <resource_group_name> --name <container_name> --image <image_name> --ports <list_of_ports> --dns-name-label <desired_dns_prefix> --registry-username <dockerhub-username> --registry-password <dockerhub-password> --registry-login-server index.docker.io`\n",
    "\n",
    "In this example:\n",
    "+ ports is the list of ports that the container will be using\n",
    "+ dns-name-label is the desired DNS prefix for a container with a public IP\n",
    "+ You can also add environment variables using `--environment-variables <property_name>=<property_value>`\n"
   ]
  },
  {
   "cell_type": "markdown",
   "id": "f02d137b-7deb-4232-8334-8bbdb6fdeae1",
   "metadata": {
    "slideshow": {
     "slide_type": "slide"
    }
   },
   "source": [
    "# Creating a container in Azure\n",
    "\n",
    "### Example.\n",
    "\n",
    "`az container create --resource-group scc2425-container-practice --name scc2425-webapp-container --image kcg295/scc2425-webapp --ports 8080 --dns-name-label scc2425-kgallagher-webapp --registry-username kcg295 --registry-password XXXXXXXXXXXXXXXXXXXXX --registry-login-server index.docker.io`\n",
    "\n",
    "Check the output for the public IP address and URL. The URL should be something like:\n",
    "\n",
    "`scc2425-kgallagher-webapp.northeurope.azurecontainer.io:`\n"
   ]
  },
  {
   "cell_type": "markdown",
   "id": "5312f46f",
   "metadata": {
    "slideshow": {
     "slide_type": "slide"
    }
   },
   "source": [
    "# Deleting a container in Azure\n",
    "\n",
    "### Deleting a container.\n",
    "\n",
    "Use the `az delete` command with the following format:\n",
    "\n",
    "`az container delete --resource-group <resource_group> --name <container_name>`\n",
    "\n",
    "### Example.\n",
    "\n",
    "`az container delete --resource-group scc2425-container-practice --name scc2425-webapp-container`"
   ]
  },
  {
   "cell_type": "markdown",
   "id": "567c2329-e013-44e2-91b9-ac2b4fee69e3",
   "metadata": {
    "slideshow": {
     "slide_type": "slide"
    }
   },
   "source": [
    "# Goals\n",
    "\n",
    "+ Learn to use Docker for microservices\n",
    "+ Learn to launch docker containers in Azure\n",
    "+ **Learn to create and use Kubernetes (k8s) yaml files**\n",
    "+ Learn to use k8s to orcherstrate containers (Azure and Minikube)"
   ]
  },
  {
   "cell_type": "markdown",
   "id": "b99223a1-f966-4e82-9a21-4cdf8b8f8e00",
   "metadata": {
    "slideshow": {
     "slide_type": "slide"
    }
   },
   "source": [
    "# Kubernetes (k8s)\n",
    "\n",
    "### K8s Documentation\n",
    "\n",
    "[https://kubernetes.io/docs/home](https://kubernetes.io/docs/home/)\n",
    "\n",
    "### Azure K8s Documentation\n",
    "\n",
    "[https://docs.microsoft.com/en-us/azure/aks/](https://docs.microsoft.com/en-us/azure/aks/)\n",
    "\n",
    "[https://docs.microsoft.com/en-us/azure/aks/kubernetes-walkthrough](https://docs.microsoft.com/en-us/azure/aks/kubernetes-walkthrough)\n",
    "\n",
    "### Minikube Documentation\n",
    "\n",
    "[https://minikube.sigs.k8s.io/docs/](https://minikube.sigs.k8s.io/docs/)\n"
   ]
  },
  {
   "cell_type": "markdown",
   "id": "decee469-493d-475f-9a78-c69f9ff26754",
   "metadata": {
    "slideshow": {
     "slide_type": "slide"
    }
   },
   "source": [
    "# K8s Key Concepts\n",
    "\n",
    "**Pod**: encapsulates an application’s container (or multiple containers), storage resources, a unique network IP, and options that govern how the container(s) should run.\n",
    "\n",
    "**Service**: a Service is an abstraction which defines a logical set of Pods and a policy by which to access them.\n",
    "\n",
    "**Volume**: a volume is a directory which is accessible to the Containers in a Pod. A Kubernetes volume has  the  same lifetime of the Pod that encloses it.\n",
    "\n",
    "**Namespace**: Namespaces provide a scope for names. Names of resources need to be unique within a namespace, but not across namespaces.\n",
    "\n"
   ]
  },
  {
   "cell_type": "markdown",
   "id": "40aac8f1-0d4b-4ed0-bcad-acadefa92936",
   "metadata": {
    "slideshow": {
     "slide_type": "slide"
    }
   },
   "source": [
    "# K8s Key Concepts\n",
    "\n",
    "**Deployments**: A Deployment provides declarative updates for Pods and ReplicaSets.\n",
    "\n",
    "**ReplicaSet**: A ReplicaSet’s purpose is to maintain a stable set of replica Pods running at any given time.\n",
    "\n",
    "**DaemonSet**: A DaemonSet ensures that all Nodes run a copy of a Pod. As nodes are added/removed to the cluster, Pods are added to/deleted from them.\n",
    "\n",
    "**StatefulSet**: StatefulSet is the workload API object used to manage stateful applications.\n",
    "\n",
    "**Job**: A Job creates one or more Pods and ensures that a specified number of them successfully terminate"
   ]
  },
  {
   "cell_type": "markdown",
   "id": "499be858-5f0d-4795-bcfd-2800f900498a",
   "metadata": {
    "slideshow": {
     "slide_type": "slide"
    }
   },
   "source": [
    "# Simple K8s Example\n",
    "\n",
    "![K8s Example](./images/K8sExample.png)"
   ]
  },
  {
   "cell_type": "markdown",
   "id": "1a7540b7-a337-4525-b3fe-fea7b1e4456b",
   "metadata": {
    "slideshow": {
     "slide_type": "slide"
    }
   },
   "source": [
    "# Simple K8s Example\n",
    "\n",
    "### Order Service Backend Deployment\n",
    "\n",
    "```yaml\n",
    "apiVersion: apps/v1\n",
    "kind: Deployment\n",
    "metadata:\n",
    "  name: order-service\n",
    "spec:\n",
    "  replicas: 1\n",
    "  selector:\n",
    "    matchLabels:\n",
    "      app: order-service\n",
    "  template:\n",
    "    metadata:\n",
    "      labels:\n",
    "        app: order-service\n",
    "    spec:\n",
    "      nodeSelector:\n",
    "        \"kubernetes.io/os\": linux\n",
    "      containers:\n",
    "      - name: order-service\n",
    "        image: ghcr.io/azure-samples/aks-store-demo/order-service:latest\n",
    "        ...\n",
    "```"
   ]
  },
  {
   "cell_type": "markdown",
   "id": "deda6db0-a403-4647-859a-26408a227390",
   "metadata": {
    "slideshow": {
     "slide_type": "slide"
    }
   },
   "source": [
    "# Simple K8s Example\n",
    "\n",
    "### Order Service Backend Deployment\n",
    "\n",
    "```yaml\n",
    "        ...\n",
    "        ports:\n",
    "        - containerPort: 3000\n",
    "        env:\n",
    "        - name: ORDER_QUEUE_HOSTNAME\n",
    "          value: \"rabbitmq\"\n",
    "        - name: ORDER_QUEUE_PORT\n",
    "          value: \"5672\"\n",
    "        - name: ORDER_QUEUE_USERNAME\n",
    "          value: \"username\"\n",
    "        - name: ORDER_QUEUE_PASSWORD\n",
    "          value: \"password\"\n",
    "        - name: ORDER_QUEUE_NAME\n",
    "          value: \"orders\"\n",
    "        - name: FASTIFY_ADDRESS\n",
    "          value: \"0.0.0.0\"\n",
    "        ...\n",
    "```"
   ]
  },
  {
   "cell_type": "markdown",
   "id": "70243a7d-1f12-4b32-b2ff-944551c0da9f",
   "metadata": {
    "slideshow": {
     "slide_type": "slide"
    }
   },
   "source": [
    "# Simple K8s Example\n",
    "\n",
    "### Order Service Backend Deployment\n",
    "\n",
    "```yaml\n",
    "        ...\n",
    "        resources:\n",
    "          requests:\n",
    "            cpu: 1m\n",
    "            memory: 50Mi\n",
    "          limits:\n",
    "            cpu: 75m\n",
    "            memory: 128Mi\n",
    "        startupProbe:\n",
    "          httpGet:\n",
    "            path: /health\n",
    "            port: 3000\n",
    "          failureThreshold: 5\n",
    "          initialDelaySeconds: 20\n",
    "          periodSeconds: 10\n",
    "        ...\n",
    "```"
   ]
  },
  {
   "cell_type": "markdown",
   "id": "623e0c78-d0fa-437a-91c2-72dc4541a955",
   "metadata": {
    "slideshow": {
     "slide_type": "slide"
    }
   },
   "source": [
    "# Simple K8s Example\n",
    "\n",
    "### Order Service Backend Deployment\n",
    "\n",
    "```yaml\n",
    "        ...\n",
    "        readinessProbe:\n",
    "          httpGet:\n",
    "            path: /health\n",
    "            port: 3000\n",
    "          failureThreshold: 3\n",
    "          initialDelaySeconds: 3\n",
    "          periodSeconds: 5\n",
    "        livenessProbe:\n",
    "          httpGet:\n",
    "            path: /health\n",
    "            port: 3000\n",
    "          failureThreshold: 5\n",
    "          initialDelaySeconds: 3\n",
    "          periodSeconds: 3\n",
    "          ...\n",
    "```"
   ]
  },
  {
   "cell_type": "markdown",
   "id": "67f2bd55-c5fa-42e3-a422-d21e1c8357fc",
   "metadata": {
    "slideshow": {
     "slide_type": "slide"
    }
   },
   "source": [
    "# Simple K8s Example\n",
    "\n",
    "### Order Service Backend Deployment\n",
    "\n",
    "```yaml\n",
    "        ...\n",
    "      initContainers:\n",
    "      - name: wait-for-rabbitmq\n",
    "        image: busybox\n",
    "        command: ['sh', '-c', 'until nc -zv rabbitmq 5672; do echo waiting for rabbitmq; sleep 2; done;']\n",
    "        resources:\n",
    "          requests:\n",
    "            cpu: 1m\n",
    "            memory: 50Mi\n",
    "          limits:\n",
    "            cpu: 75m\n",
    "            memory: 128Mi\n",
    "```"
   ]
  },
  {
   "cell_type": "markdown",
   "id": "6ee48675-07cd-460e-ad4b-c24b13b645e6",
   "metadata": {
    "slideshow": {
     "slide_type": "slide"
    }
   },
   "source": [
    "# Simple K8s Example\n",
    "\n",
    "### Order Service Backend Service\n",
    "\n",
    "```yaml\n",
    "apiVersion: v1\n",
    "kind: Service\n",
    "metadata:\n",
    "  name: order-service\n",
    "spec:\n",
    "  type: ClusterIP\n",
    "  ports:\n",
    "  - name: http\n",
    "    port: 3000\n",
    "    targetPort: 3000\n",
    "  selector:\n",
    "    app: order-service\n",
    "```"
   ]
  },
  {
   "cell_type": "markdown",
   "id": "6e102d3f-0924-448b-9006-8106781c2341",
   "metadata": {
    "slideshow": {
     "slide_type": "slide"
    }
   },
   "source": [
    "# Simple K8s Example\n",
    "\n",
    "### Product Service Deployment\n",
    "\n",
    "```yaml\n",
    "apiVersion: apps/v1\n",
    "kind: Deployment\n",
    "metadata:\n",
    "  name: product-service\n",
    "spec:\n",
    "  replicas: 1\n",
    "  selector:\n",
    "    matchLabels:\n",
    "      app: product-service\n",
    "  template:\n",
    "    metadata:\n",
    "      labels:\n",
    "        app: product-service\n",
    "    spec:\n",
    "      nodeSelector:\n",
    "        \"kubernetes.io/os\": linux\n",
    "      ...\n",
    "```"
   ]
  },
  {
   "cell_type": "markdown",
   "id": "0785a441-be0c-4706-90da-e90a928efc20",
   "metadata": {
    "slideshow": {
     "slide_type": "slide"
    }
   },
   "source": [
    "# Simple K8s Example\n",
    "\n",
    "### Product Service Deployment\n",
    "\n",
    "```yaml\n",
    "      ...\n",
    "      containers:\n",
    "      - name: product-service\n",
    "        image: ghcr.io/azure-samples/aks-store-demo/product-service:latest\n",
    "        ports:\n",
    "        - containerPort: 3002\n",
    "        env: \n",
    "        - name: AI_SERVICE_URL\n",
    "          value: \"http://ai-service:5001/\"\n",
    "        resources:\n",
    "          requests:\n",
    "            cpu: 1m\n",
    "            memory: 1Mi\n",
    "          limits:\n",
    "            cpu: 2m\n",
    "            memory: 20Mi\n",
    "         ...\n",
    "```"
   ]
  },
  {
   "cell_type": "markdown",
   "id": "287b7d35-b87f-4d8d-8d93-74d01bfd4325",
   "metadata": {
    "slideshow": {
     "slide_type": "slide"
    }
   },
   "source": [
    "# Simple K8s Example\n",
    "\n",
    "### Product Service Deployment\n",
    "\n",
    "```yaml\n",
    "        ...\n",
    "        readinessProbe:\n",
    "          httpGet:\n",
    "            path: /health\n",
    "            port: 3002\n",
    "          failureThreshold: 3\n",
    "          initialDelaySeconds: 3\n",
    "          periodSeconds: 5\n",
    "        livenessProbe:\n",
    "          httpGet:\n",
    "            path: /health\n",
    "            port: 3002\n",
    "          failureThreshold: 5\n",
    "          initialDelaySeconds: 3\n",
    "          periodSeconds: 3\n",
    "```"
   ]
  },
  {
   "cell_type": "markdown",
   "id": "67482e24-bff3-4691-9584-6ea19f44a4c2",
   "metadata": {
    "slideshow": {
     "slide_type": "slide"
    }
   },
   "source": [
    "# Simple K8s Example\n",
    "\n",
    "### Product Service Service\n",
    "\n",
    "```yaml\n",
    "apiVersion: v1\n",
    "kind: Service\n",
    "metadata:\n",
    "  name: product-service\n",
    "spec:\n",
    "  type: ClusterIP\n",
    "  ports:\n",
    "  - name: http\n",
    "    port: 3002\n",
    "    targetPort: 3002\n",
    "  selector:\n",
    "    app: product-service\n",
    "```"
   ]
  },
  {
   "cell_type": "markdown",
   "id": "46a8f6e2-c636-45f0-a8a9-2c9c3005c2fa",
   "metadata": {
    "slideshow": {
     "slide_type": "slide"
    }
   },
   "source": [
    "# Simple K8s Example\n",
    "\n",
    "### Store Front Deployment\n",
    "\n",
    "```yaml\n",
    "apiVersion: apps/v1\n",
    "kind: Deployment\n",
    "metadata:\n",
    "  name: store-front\n",
    "spec:\n",
    "  replicas: 1\n",
    "  selector:\n",
    "    matchLabels:\n",
    "      app: store-front\n",
    "  template:\n",
    "    metadata:\n",
    "      labels:\n",
    "        app: store-front\n",
    "    spec:\n",
    "      nodeSelector:\n",
    "        \"kubernetes.io/os\": linux\n",
    "      ...\n",
    "```"
   ]
  },
  {
   "cell_type": "markdown",
   "id": "afb4922f-7b41-4a83-82b5-07838797c6cc",
   "metadata": {
    "slideshow": {
     "slide_type": "slide"
    }
   },
   "source": [
    "# Simple K8s Example\n",
    "\n",
    "### Store Front Deployment\n",
    "\n",
    "```yaml\n",
    "      ...\n",
    "      containers:\n",
    "      - name: store-front\n",
    "        image: ghcr.io/azure-samples/aks-store-demo/store-front:latest\n",
    "        ports:\n",
    "        - containerPort: 8080\n",
    "          name: store-front\n",
    "        env: \n",
    "        - name: VUE_APP_ORDER_SERVICE_URL\n",
    "          value: \"http://order-service:3000/\"\n",
    "        - name: VUE_APP_PRODUCT_SERVICE_URL\n",
    "          value: \"http://product-service:3002/\"\n",
    "        resources:\n",
    "          requests:\n",
    "            cpu: 1m\n",
    "            memory: 200Mi\n",
    "          ...\n",
    "```"
   ]
  },
  {
   "cell_type": "markdown",
   "id": "0f5bbde6-a509-46d1-92e4-c40253529d85",
   "metadata": {
    "slideshow": {
     "slide_type": "slide"
    }
   },
   "source": [
    "# Simple K8s Example\n",
    "\n",
    "### Store Front Deployment\n",
    "\n",
    "```yaml\n",
    "          ...\n",
    "          limits:\n",
    "            cpu: 1000m\n",
    "            memory: 512Mi\n",
    "        startupProbe:\n",
    "          httpGet:\n",
    "            path: /health\n",
    "            port: 8080\n",
    "          failureThreshold: 3\n",
    "          initialDelaySeconds: 5\n",
    "          periodSeconds: 5\n",
    "        readinessProbe:\n",
    "          httpGet:\n",
    "            path: /health\n",
    "            port: 8080\n",
    "          ...\n",
    "```"
   ]
  },
  {
   "cell_type": "markdown",
   "id": "04ea04ae-470f-4321-8611-e15d557e4280",
   "metadata": {
    "slideshow": {
     "slide_type": "slide"
    }
   },
   "source": [
    "# Simple K8s Example\n",
    "\n",
    "### Store Front Deployment\n",
    "\n",
    "```yaml\n",
    "          ...\n",
    "          failureThreshold: 3\n",
    "          initialDelaySeconds: 3\n",
    "          periodSeconds: 3\n",
    "        livenessProbe:\n",
    "          httpGet:\n",
    "            path: /health\n",
    "            port: 8080\n",
    "          failureThreshold: 5\n",
    "          initialDelaySeconds: 3\n",
    "          periodSeconds: 3\n",
    "```"
   ]
  },
  {
   "cell_type": "markdown",
   "id": "5f77ccd8-32fb-42b8-8acc-fa7f8d3bedb2",
   "metadata": {
    "slideshow": {
     "slide_type": "slide"
    }
   },
   "source": [
    "# Simple K8s Example\n",
    "\n",
    "### Store Front Service\n",
    "\n",
    "```yaml\n",
    "apiVersion: v1\n",
    "kind: Service\n",
    "metadata:\n",
    "  name: store-front\n",
    "spec:\n",
    "  ports:\n",
    "  - port: 80\n",
    "    targetPort: 8080\n",
    "  selector:\n",
    "    app: store-front\n",
    "  type: LoadBalancer\n",
    "```"
   ]
  },
  {
   "cell_type": "markdown",
   "id": "9eeeb9a0",
   "metadata": {
    "slideshow": {
     "slide_type": "slide"
    }
   },
   "source": [
    "# Sample Code\n",
    "\n",
    "The code provided [scc2425-lab10.zip](scc2425-lab10-code.zip) can be used to deploy this simple test application.\n",
    "\n",
    "The following slides will discuss how it can be deployed to Azure for remote deployment, and Minikube for local deployment.\n",
    "\n",
    "**WARNING**: Minikube is a heavy program, and requires good hardware. For those who have laptops who struggle with Docker, I suggest **not** attempting local deployments using Minikube."
   ]
  },
  {
   "cell_type": "markdown",
   "id": "608d1417-9db6-46e6-8499-3d2f94549c13",
   "metadata": {
    "slideshow": {
     "slide_type": "slide"
    }
   },
   "source": [
    "# Goals\n",
    "\n",
    "+ Learn to use Docker for microservices\n",
    "+ Learn to launch docker containers in Azure\n",
    "+ Learn to create and use Kubernetes (k8s) yaml files\n",
    "+ **Learn to use k8s to orcherstrate containers (Azure and Minikube)**"
   ]
  },
  {
   "cell_type": "markdown",
   "id": "e3478088-9736-40b2-ad32-23029ff4c825",
   "metadata": {
    "slideshow": {
     "slide_type": "slide"
    }
   },
   "source": [
    "# Using K8s in Azure\n",
    "\n",
    "+ Create a resource group (see previous slide).\n",
    "+ Create a service principal (Azure identity management for users, groups, and apps).\n",
    "+ Create a cluster.\n",
    "+ Get cluster credentials.\n",
    "+ Use the cluster using kubectl.\n",
    "\n"
   ]
  },
  {
   "cell_type": "markdown",
   "id": "f7d85254-dd98-45e1-bae2-113098e83a5e",
   "metadata": {
    "slideshow": {
     "slide_type": "slide"
    }
   },
   "source": [
    "# Using K8s in Azure\n",
    "\n",
    "### Create a service principal.\n",
    "\n",
    "`az ad sp create-for-rbac --name http://<domain_prefix> --role Contributor --scope /subscriptions/<id_of_your_subscription>`\n",
    "\n",
    "### Example.\n",
    "\n",
    "`az ad sp create-for-rbac --name http://kcg-scc2425-kuber --role Contributor --scope /subscriptions/<id_of_your_subscription>`\n",
    "\n",
    "\n",
    "### Returns (example).\n",
    "\n",
    "```json\n",
    "{\n",
    "  \"appId\": \"31c09123-e077-4f72-9fbe-f5b99cafbf12\",\n",
    "  \"displayName\": \"http://kcg-scc2425-kuber\",\n",
    "  \"password\": \"xxxxxxxxxxxxxxxxxxxxxxxxxxxxxx\",\n",
    "  \"tenant\": \"ae7e50a2-ed26-41f7-bd75-f49683f2433a\"\n",
    "}\n",
    "```"
   ]
  },
  {
   "cell_type": "markdown",
   "id": "b3886a4e-fe71-4fd7-8d1d-d2a957698945",
   "metadata": {
    "slideshow": {
     "slide_type": "slide"
    }
   },
   "source": [
    "# Using K8s in Azure\n",
    "\n",
    "### Register for Services on Azure Portal\n",
    "\n",
    "+ Home -> Subscriptions -> Azure for Students -> Settings -> Resource Providers.\n",
    "+ Register for ContainerService\n",
    "+ Register for Quotas\n",
    "+ Register for Compute\n",
    "\n",
    "### Create Quotas.\n",
    "\n",
    "+ Home -> Search for \"Quotas\" -> Select \"Quotas\" -> Compute -> Total Regional vCPUs (North Europe) -> New Quota Request -> New Limit (4)\n"
   ]
  },
  {
   "cell_type": "markdown",
   "id": "dfed517d-2b66-4779-b08b-93c694fbe062",
   "metadata": {
    "slideshow": {
     "slide_type": "slide"
    }
   },
   "source": [
    "# Using K8s in Azure\n",
    "\n",
    "### Create a cluster.\n",
    "\n",
    "`az aks create --resource-group <rg_name> --name <cluster_name> --node-vm-size Standard_B2s --generate-ssh-keys --node-count 2 --service-principal <appId_REPLACE> --client-secret <password_REPLACE>`\n",
    "\n",
    "In this command, appId and password should be the values returned from the service principal.\n",
    "\n",
    "**WARNING: NOT FREE!** For VM sizes and pricing check: https://docs.microsoft.com/en-us/azure/virtual-machines/sizes).\n",
    "\n",
    "### Example.\n",
    "\n",
    "`az aks create --resource-group scc2425-cluster-rg-kcg --name my-scc2425-cluster-kcg --node-vm-size Standard_B2s --generate-ssh-keys --node-count 2 --service-principal <appId_REPLACE> --client-secret <password_REPLACE>`\n"
   ]
  },
  {
   "cell_type": "markdown",
   "id": "ad927c28-a621-4f21-ab1f-fc32ad664d99",
   "metadata": {
    "slideshow": {
     "slide_type": "slide"
    }
   },
   "source": [
    "# Using K8s in Azure\n",
    "\n",
    "### Get the cluster credentials.\n",
    "\n",
    "`az aks get-credentials --resource-group <rg_name> --name <cluster_name>`\n",
    "\n",
    "### Example.\n",
    "\n",
    "`az aks get-credentials --resource-group scc2425-cluster-rg-kcg --name my-scc2425-cluster-kcg`\n"
   ]
  },
  {
   "cell_type": "markdown",
   "id": "f3ce4e6c-06ee-4513-8c95-347bffc711dd",
   "metadata": {
    "slideshow": {
     "slide_type": "slide"
    }
   },
   "source": [
    "# Using K8s in Azure\n",
    "\n",
    "### Install kubectl.\n",
    "`az aks install-cli`\n",
    "\n",
    "### Use the cluster using kubectl.\n",
    "`kubectl apply -f azure-store.yaml`\n",
    "\n",
    "### Check services to get URL.\n",
    "`kubectl get services`\n",
    "\n",
    "### Check pods.\n",
    "`kubectl get pods`\n",
    "\n",
    "### Get logs.\n",
    "`kubectl logs -f <pod-name>`"
   ]
  },
  {
   "cell_type": "markdown",
   "id": "a3179372-6f15-402d-82c7-89d496972da1",
   "metadata": {
    "slideshow": {
     "slide_type": "slide"
    }
   },
   "source": [
    "# Using K8s in Azure\n",
    "\n",
    "### Persistent Volumes.\n",
    "\n",
    "+ Volumes (storage) have the lifetime of the pod they are mounted to.\n",
    "+ Persistent Volumes (PVs) survive after the pod is destroyed.\n",
    "\n",
    "### Example.\n",
    "\n",
    "```yaml\n",
    "apiVersion: v1\n",
    "kind: PersistentVolumeClaim\n",
    "metadata:\n",
    "  name: azure-managed-disk\n",
    "spec:\n",
    "  accessModes:\n",
    "  - ReadWriteOnce\n",
    "  storageClassName: azurefile\n",
    "  resources:\n",
    "    requests:\n",
    "      storage: 1Gi\n",
    "```"
   ]
  },
  {
   "cell_type": "markdown",
   "id": "441a49c7-0069-41fc-8121-661dc69aff86",
   "metadata": {
    "slideshow": {
     "slide_type": "slide"
    }
   },
   "source": [
    "# Using K8s in Azure\n",
    "\n",
    "## Persistent Volumes.\n",
    "\n",
    "+ Can be used in any pod by including the **volumeMounts** and **volumes** configurations.\n",
    "\n",
    "## Example.\n",
    "\n",
    "```yaml\n",
    "spec:\n",
    "      containers:\n",
    "      - name: ...\n",
    "        image: ... \n",
    "        volumeMounts:\n",
    "        - mountPath: \"/mnt/vol\"\n",
    "          name: mediavolume\n",
    "        ...\n",
    "      volumes:\n",
    "      - name: mediavolume\n",
    "        persistentVolumeClaim:\n",
    "          claimName: azure-managed-disk\n",
    "\n",
    "```"
   ]
  },
  {
   "cell_type": "markdown",
   "id": "c53a3084-f253-42c6-ac59-c728e7a42407",
   "metadata": {
    "slideshow": {
     "slide_type": "slide"
    }
   },
   "source": [
    "# Using K8s in Azure - Cleanup\n",
    "\n",
    "### Delete the pods, services, and deployments.\n",
    "\n",
    "`kubectl delete deployments,services,pods -all`\n",
    "\n",
    "### Deleter persistent volumes (if used).\n",
    "\n",
    "`kubectl delete pv --all`\n",
    "\n",
    "### Delete the resource group to delete the cluster\n",
    "\n",
    "`az group delete --resource-group <rg-name>`\n"
   ]
  },
  {
   "cell_type": "markdown",
   "id": "bb8ce4bd-2aad-407b-bc4a-181ec818a5a3",
   "metadata": {
    "slideshow": {
     "slide_type": "slide"
    }
   },
   "source": [
    "# Minikube\n",
    "\n",
    "+ Local k8s deployment option to test things quicker.\n",
    "+ **Heavy program.** Do not attempt to use on older laptops or laptops with less resources.\n",
    "+ Can be downloaded using [these instructions](https://minikube.sigs.k8s.io/docs/start/?arch=%2Flinux%2Fx86-64%2Fstable%2Fbinary+download).\n",
    "+ Also uses kubectl, so after installing and configuring minikube the steps above are the same.\n"
   ]
  },
  {
   "cell_type": "markdown",
   "id": "0083b2eb-6fc6-48a0-bb51-ebdbd3e2a1b7",
   "metadata": {
    "slideshow": {
     "slide_type": "slide"
    }
   },
   "source": [
    "# Guidelines\n",
    "\n",
    "### Redis.\n",
    "\n",
    "+ When launching a container based on the default “redis” image, you have a Default port of 6379, no password, and Simple HTTP - no TLS\n",
    "\n",
    "### Database.\n",
    "\n",
    "+ Create a service + pod with a **single instance** of the database you want to use.\n",
    "+ Check docker hub for info on how to launch a container with a single instance.\n",
    "+ Suggested database: mongodb, postgres\n",
    "\n",
    "### Azure Functions.\n",
    "\n",
    "+ Replace Timer-triggered functions by Kubernetes cronjobs.\n",
    "+ Replace HTTP-triggered functions by a REST resource.\n",
    "\n",
    "### Secret values.\n",
    "\n",
    "+ Use [Kubernetes Secrets](https://kubernetes.io/docs/concepts/configuration/secret/)."
   ]
  },
  {
   "cell_type": "markdown",
   "id": "284a5bee",
   "metadata": {
    "slideshow": {
     "slide_type": "slide"
    }
   },
   "source": [
    "# TO DO\n",
    "\n",
    "\n",
    "Convert TuKano into several containerized microservices, and configure and execute its deployment using Kubernetes."
   ]
  }
 ],
 "metadata": {
  "celltoolbar": "Slideshow",
  "kernelspec": {
   "display_name": "Python 3 (ipykernel)",
   "language": "python",
   "name": "python3"
  },
  "language_info": {
   "codemirror_mode": {
    "name": "ipython",
    "version": 3
   },
   "file_extension": ".py",
   "mimetype": "text/x-python",
   "name": "python",
   "nbconvert_exporter": "python",
   "pygments_lexer": "ipython3",
   "version": "3.11.2"
  },
  "rise": {
   "theme": "sky"
  }
 },
 "nbformat": 4,
 "nbformat_minor": 5
}
