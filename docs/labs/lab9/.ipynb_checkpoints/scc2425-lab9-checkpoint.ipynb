{
 "cells": [
  {
   "cell_type": "code",
   "execution_count": 1,
   "id": "0cbec22e",
   "metadata": {
    "slideshow": {
     "slide_type": "skip"
    }
   },
   "outputs": [],
   "source": [
    "\n",
    "!jupyter nbconvert --to html --TemplateExporter.exclude_code_cell=True --TemplateExporter.exclude_input_prompt=True --TemplateExporter.exclude_output_prompt=True scc2425-lab9.ipynb 2> /dev/null\n",
    "!jupyter nbconvert --to slides --TemplateExporter.exclude_input_prompt=True --TemplateExporter.exclude_output_prompt=True scc2425-lab9.ipynb 2> /dev/null"
   ]
  },
  {
   "cell_type": "markdown",
   "id": "b3f0f5fd",
   "metadata": {
    "slideshow": {
     "slide_type": "slide"
    }
   },
   "source": [
    "# Cloud Computing Systems\n",
    "## 2024/25\n",
    "\n",
    "Lab 9\n",
    "https://smduarte.github.io/scc2425/\n",
    "\n",
    "Sérgio Duarte, Kevin Gallagher "
   ]
  },
  {
   "attachments": {},
   "cell_type": "markdown",
   "id": "05850652",
   "metadata": {
    "slideshow": {
     "slide_type": "slide"
    }
   },
   "source": [
    "# Goals\n",
    "\n",
    "+ Access control for web applications based on Cookies"
   ]
  },
  {
   "attachments": {},
   "cell_type": "markdown",
   "id": "350df19c",
   "metadata": {
    "slideshow": {
     "slide_type": "slide"
    }
   },
   "source": [
    "# Approach to implement access control!\n",
    "\n",
    "\n",
    "### Step 1 \n",
    "\n",
    " Users must log in to the system;\n",
    " \n",
    "### Step 2\n",
    "\n",
    "Before executing operations, check if the user is allowed to execute the operation.\n",
    "\n"
   ]
  },
  {
   "attachments": {},
   "cell_type": "markdown",
   "id": "cac12489",
   "metadata": {
    "slideshow": {
     "slide_type": "slide"
    }
   },
   "source": [
    "# Authentication endpoint\n",
    "\n",
    "### Step 1 - Users must log in to the system;\n",
    "\n",
    "Endpoint: **GET /login** returns the login page, including a form to supply the **user credentials**;\n",
    "\n",
    "Endpoint: **POST /login** verifies the users credentials, passed as **form data**. Creates a [Cookie](https://en.wikipedia.org/wiki/HTTP_cookie) to serve as proof of authentication."
   ]
  },
  {
   "cell_type": "markdown",
   "id": "b14c7f2f",
   "metadata": {},
   "source": [
    "### Authentication Endpoint: GET /rest/login \n",
    "```java\n",
    "@Path(Authentication.PATH)\n",
    "public class Authentication {\n",
    "\tstatic final String PATH = \"login\";\n",
    "    static final String LOGIN_PAGE = \"login.html\";\n",
    "\t\n",
    "\t@GET\n",
    "\t@Produces(MediaType.TEXT_HTML)\n",
    "\tpublic String login() {\n",
    "\t\ttry {\n",
    "\t\t\tvar in = getClass().getClassLoader().getResourceAsStream(LOGIN_PAGE);\n",
    "\t\t\treturn new String( in.readAllBytes() );\t\t\t\n",
    "\t\t} catch( Exception x ) {\n",
    "\t\t\tthrow new WebApplicationException( Status.INTERNAL_SERVER_ERROR );\n",
    "\t\t}\n",
    "\t}\n",
    "```"
   ]
  },
  {
   "cell_type": "markdown",
   "id": "bebbe83d",
   "metadata": {
    "slideshow": {
     "slide_type": "notes"
    }
   },
   "source": [
    "Note: The GET endpoint in the authentication returns the contents of a login html page stored in the **WAR** archive as a resource."
   ]
  },
  {
   "cell_type": "markdown",
   "id": "d288a619",
   "metadata": {
    "slideshow": {
     "slide_type": "skip"
    }
   },
   "source": [
    "### Authentication Endpoint: POST /rest/login \n",
    "\n",
    "```java\n",
    "@POST\n",
    "public Response login( @FormParam(USER) String user, @FormParam(PWD) String password ) {\n",
    "    boolean pwdOk = ... ; // check user passwd\n",
    "\tif (pwdOk) {\n",
    "        String uid = UUID.randomUUID().toString();\n",
    "\t\tvar cookie = new NewCookie.Builder(COOKIE_KEY)\n",
    "\t\t\t\t\t.value(uid).path(\"/\")\n",
    "\t\t\t\t\t.comment(\"sessionid\")\n",
    "\t\t\t\t\t.maxAge(MAX_COOKIE_AGE)\n",
    "\t\t\t\t\t.secure(false)\n",
    "\t\t\t\t\t.httpOnly(true)\n",
    "\t\t\t\t\t.build();\n",
    "\t\t\t\n",
    "\t\tFakeRedisLayer.getInstance().putSession( new Session( uid, user));\t\n",
    "\t\t\t\n",
    "        return Response.seeOther(URI.create( REDIRECT_TO_AFTER_AUTH ))\n",
    "                   .cookie(cookie) \n",
    "                   .build();\n",
    "\t} else\n",
    "\t\tthrow new NotAuthorizedException(\"Incorrect login\");\n",
    "}\n",
    "```"
   ]
  },
  {
   "cell_type": "markdown",
   "id": "81c1c638",
   "metadata": {
    "slideshow": {
     "slide_type": "notes"
    }
   },
   "source": [
    "The POST /rest/login endpoint is the target of the form returned previously. \n",
    "\n",
    "The user credentials supplied in the form are encoded as *FormData* and can be captured as method parameters using **@FormParam** annotations.\n",
    "\n",
    "If authentication succeeds, we return a [Cookie](https://en.wikipedia.org/wiki/HTTP_cookie). The cookie will be included by the browser/HTTP client in subsequent requests. It is intended to serve as proof of authentication while it is valid.\n",
    "\n",
    "The cookie needs a key and value. Here the value is just an unique identifier. It is possible to control the how long the cookie will be valid by providing a maximum allowed age. Other flags can be used to improve security, such as only support https communications.\n",
    "\n",
    "When the login succeeds the client is redirected automatically to a landing endpoint...\n",
    "\n",
    "The cookie represents an authenticated user session that can be shared across all application server instances via a RedisCache. In this example, we are faking the RedisCache to provide a simple working example with a local deployment of the web app."
   ]
  },
  {
   "attachments": {},
   "cell_type": "markdown",
   "id": "9df74329",
   "metadata": {},
   "source": [
    "# Access control\n",
    "\n",
    "###  Step 2 - ... check if the user is allowed to execute the operation.\n",
    "\n",
    "\n",
    "In methods that require access control, **use the cookie** to know which user is calling the method.\n",
    "\n",
    "```java\n",
    "@Path(\"/ctrl\")\n",
    "public class ControlResource\n",
    "{\n",
    "\t@Path(\"/version2\")\n",
    "\t@GET\n",
    "\t@Produces(MediaType.TEXT_HTML)\n",
    "\tpublic String version2( @CookieParam(Authentication.COOKIE_KEY) Cookie cookie) {\n",
    "\n",
    "        "
   ]
  },
  {
   "cell_type": "code",
   "execution_count": null,
   "id": "ac1dc8b9",
   "metadata": {},
   "outputs": [],
   "source": []
  }
 ],
 "metadata": {
  "celltoolbar": "Slideshow",
  "kernelspec": {
   "display_name": "Python 3 (ipykernel)",
   "language": "python",
   "name": "python3"
  },
  "language_info": {
   "codemirror_mode": {
    "name": "ipython",
    "version": 3
   },
   "file_extension": ".py",
   "mimetype": "text/x-python",
   "name": "python",
   "nbconvert_exporter": "python",
   "pygments_lexer": "ipython3",
   "version": "3.10.9"
  },
  "rise": {
   "theme": "sky"
  }
 },
 "nbformat": 4,
 "nbformat_minor": 5
}
