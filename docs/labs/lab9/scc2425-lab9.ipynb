{
 "cells": [
  {
   "cell_type": "code",
   "execution_count": 9,
   "id": "0cbec22e",
   "metadata": {
    "slideshow": {
     "slide_type": "skip"
    }
   },
   "outputs": [],
   "source": [
    "\n",
    "!jupyter nbconvert --to html --TemplateExporter.exclude_code_cell=True --TemplateExporter.exclude_input_prompt=True --TemplateExporter.exclude_output_prompt=True scc2425-lab9.ipynb 2> /dev/null\n",
    "!jupyter nbconvert --to slides --TemplateExporter.exclude_input_prompt=True --TemplateExporter.exclude_output_prompt=True scc2425-lab9.ipynb 2> /dev/null"
   ]
  },
  {
   "cell_type": "markdown",
   "id": "b3f0f5fd",
   "metadata": {
    "slideshow": {
     "slide_type": "slide"
    }
   },
   "source": [
    "# Cloud Computing Systems\n",
    "## 2024/25\n",
    "\n",
    "Lab 9\n",
    "https://smduarte.github.io/scc2425/\n",
    "\n",
    "Sérgio Duarte, Kevin Gallagher "
   ]
  },
  {
   "cell_type": "markdown",
   "id": "05850652",
   "metadata": {
    "slideshow": {
     "slide_type": "slide"
    }
   },
   "source": [
    "# Goals\n",
    "\n",
    "+ Access control for web applications based on Cookies"
   ]
  },
  {
   "cell_type": "markdown",
   "id": "ff1d18f5",
   "metadata": {
    "slideshow": {
     "slide_type": "slide"
    }
   },
   "source": [
    "# Approach to implement access control!\n",
    "\n",
    "\n",
    "### Step 1 \n",
    "\n",
    " Users must log in to the system;\n",
    " \n",
    "### Step 2\n",
    "\n",
    "Before executing operations, check if the user is allowed to execute the operation.\n",
    "\n"
   ]
  },
  {
   "cell_type": "markdown",
   "id": "93bee430",
   "metadata": {
    "slideshow": {
     "slide_type": "slide"
    }
   },
   "source": [
    "# Authentication endpoint\n",
    "\n",
    "### Step 1 - Users must log in to the system;\n",
    "\n",
    "Endpoint: **GET /login** returns the login page, including a form to supply the **user credentials**;\n",
    "\n",
    "Endpoint: **POST /login** verifies the users credentials, passed as **form data**. Creates a [Cookie](https://en.wikipedia.org/wiki/HTTP_cookie) to serve as proof of authentication."
   ]
  },
  {
   "cell_type": "markdown",
   "id": "6ce07535",
   "metadata": {
    "slideshow": {
     "slide_type": "slide"
    }
   },
   "source": [
    "### Authentication Endpoint: GET /rest/login \n",
    "```java\n",
    "@Path(Authentication.PATH)\n",
    "public class Authentication {\n",
    "\tstatic final String PATH = \"login\";\n",
    "    static final String LOGIN_PAGE = \"login.html\";\n",
    "\t\n",
    "\t@GET\n",
    "\t@Produces(MediaType.TEXT_HTML)\n",
    "\tpublic String login() {\n",
    "\t\ttry {\n",
    "\t\t\tvar in = getClass().getClassLoader().getResourceAsStream(LOGIN_PAGE);\n",
    "\t\t\treturn new String( in.readAllBytes() );\t\t\t\n",
    "\t\t} catch( Exception x ) {\n",
    "\t\t\tthrow new WebApplicationException( Status.INTERNAL_SERVER_ERROR );\n",
    "\t\t}\n",
    "\t}\n",
    "```"
   ]
  },
  {
   "cell_type": "markdown",
   "id": "37042acc",
   "metadata": {
    "slideshow": {
     "slide_type": "notes"
    }
   },
   "source": [
    "Note: The GET endpoint in the authentication returns the contents of a login html page stored in the **WAR** archive as a resource."
   ]
  },
  {
   "cell_type": "markdown",
   "id": "c458782f",
   "metadata": {
    "slideshow": {
     "slide_type": "skip"
    }
   },
   "source": [
    "### Authentication Endpoint: POST /rest/login \n",
    "\n",
    "```java\n",
    "@POST\n",
    "public Response login( @FormParam(USER) String user, @FormParam(PWD) String password ) {\n",
    "    boolean pwdOk = ... ; // check user passwd\n",
    "\tif (pwdOk) {\n",
    "        String uid = UUID.randomUUID().toString();\n",
    "\t\tvar cookie = new NewCookie.Builder(COOKIE_KEY)\n",
    "\t\t\t\t\t.value(uid).path(\"/\")\n",
    "\t\t\t\t\t.comment(\"sessionid\")\n",
    "\t\t\t\t\t.maxAge(MAX_COOKIE_AGE)\n",
    "\t\t\t\t\t.secure(false)\n",
    "\t\t\t\t\t.httpOnly(true)\n",
    "\t\t\t\t\t.build();\n",
    "\t\t\t\n",
    "\t\tFakeRedisLayer.getInstance().putSession( new Session( uid, user));\t\n",
    "\t\t\t\n",
    "        return Response.seeOther(URI.create( REDIRECT_TO_AFTER_AUTH ))\n",
    "                   .cookie(cookie) \n",
    "                   .build();\n",
    "\t} else\n",
    "\t\tthrow new NotAuthorizedException(\"Incorrect login\");\n",
    "}\n",
    "```"
   ]
  },
  {
   "cell_type": "markdown",
   "id": "bbdb6392",
   "metadata": {
    "slideshow": {
     "slide_type": "notes"
    }
   },
   "source": [
    "The POST /rest/login endpoint is the target of the form returned previously. \n",
    "\n",
    "The user credentials supplied in the form are encoded as *FormData* and can be captured as method parameters using **@FormParam** annotations.\n",
    "\n",
    "If authentication succeeds, we return a [Cookie](https://en.wikipedia.org/wiki/HTTP_cookie). The cookie will be included by the browser/HTTP client in subsequent requests. It is intended to serve as proof of authentication while it is valid.\n",
    "\n",
    "The cookie needs a key and value. Here the value is just an unique identifier. It is possible to control the how long the cookie will be valid by providing a maximum allowed age. Other flags can be used to improve security, such as only support https communications.\n",
    "\n",
    "When the login succeeds the client is redirected automatically to a landing endpoint...\n",
    "\n",
    "The cookie represents an authenticated user session that can be shared across all application server instances via a RedisCache. In this example, we are faking the RedisCache to provide a simple working example with a local deployment of the web app."
   ]
  },
  {
   "cell_type": "markdown",
   "id": "69ecb7c5",
   "metadata": {
    "slideshow": {
     "slide_type": "slide"
    }
   },
   "source": [
    "# Access control (1)\n",
    "\n",
    "###  Step 2 - ... check if the user is allowed to execute the operation.\n",
    "\n",
    "\n",
    "In methods that require access control, **use the cookie** to know which user is calling the method.\n",
    "\n",
    "```java\n",
    "@Path(\"/ctrl\")\n",
    "public class ControlResource\n",
    "{\n",
    "\t@Path(\"/version2\")\n",
    "\t@GET\n",
    "\t@Produces(MediaType.TEXT_HTML)\n",
    "\tpublic String version2( @CookieParam(Authentication.COOKIE_KEY) Cookie cookie) {\n",
    "        \n",
    "        var session = Authentication.validateSession(cookie, ADMIN); // will throw NOT AUTHORIZED\n",
    "        // user admin authenticated\n",
    "    }\n",
    "    \n",
    "}\n",
    "```        "
   ]
  },
  {
   "cell_type": "markdown",
   "id": "c6c528bd",
   "metadata": {
    "slideshow": {
     "slide_type": "notes"
    }
   },
   "source": [
    "Note: [@CookieParam](https://jakarta.ee/specifications/platform/9/apidocs/jakarta/ws/rs/cookieparam) can be used to capture the cookie and then pass it to the access control logic that verifies permissions...\n",
    "\n",
    "The drawback of this approach is that it requires updating all the endpoints that require **access control*"
   ]
  },
  {
   "cell_type": "markdown",
   "id": "7bb06985",
   "metadata": {
    "slideshow": {
     "slide_type": "slide"
    }
   },
   "source": [
    "# Access control (2)\n",
    "\n",
    "###  Step 2 - ... check if the user is allowed to execute the operation.\n",
    "\n",
    "\n",
    "In methods that require access control, ***check if the proper*** user is calling the method.\n",
    "\n",
    "```java\n",
    "@Path(\"/ctrl\")\n",
    "public class ControlResource\n",
    "{\n",
    "\t@Path(\"/version\")\n",
    "\t@GET\n",
    "\t@Produces(MediaType.TEXT_HTML)\n",
    "\tpublic String version() {\n",
    "        var session = Authentication.validateSession(ADMIN); // will throw NOT AUTHORIZED\n",
    "        // user admin authenticated\n",
    "    }\n",
    "}\n",
    "```        "
   ]
  },
  {
   "cell_type": "markdown",
   "id": "9d49730c",
   "metadata": {
    "slideshow": {
     "slide_type": "notes"
    }
   },
   "source": [
    "Note: For the above to work, the method `Authentication.validateSession(ADMIN)` will need access to the cookie somehow..."
   ]
  },
  {
   "cell_type": "markdown",
   "id": "5312f46f",
   "metadata": {
    "slideshow": {
     "slide_type": "slide"
    }
   },
   "source": [
    "# Access control (3)\n",
    "\n",
    "It is possible to manage access control information separate from the web application logic\n",
    "\n",
    "+ [ThreadLocal](https://www.baeldung.com/java-threadlocal) storage  - to store per invocation cookies;\n",
    "+ [ContainerRequestFilter](https://jakarta.ee/specifications/platform/9.1/apidocs/?jakarta/ws/rs/container/ContainerRequestFilter.html) - to intercept REST invocations and manage cookies (and maybe other context)"
   ]
  },
  {
   "cell_type": "markdown",
   "id": "69b72a4e",
   "metadata": {
    "slideshow": {
     "slide_type": "slide"
    }
   },
   "source": [
    "### Store Cookies in ThreadLocal Storage\n",
    "\n",
    "```java\n",
    "public class RequestCookies {\n",
    "\n",
    "    private static final ThreadLocal<Map<String, Cookie>> requestCookiesThreadLocal = new ThreadLocal<>();\n",
    "\n",
    "    public static void set(Map<String, Cookie> cookies) {\n",
    "    \trequestCookiesThreadLocal.set(cookies);\n",
    "    }\n",
    "\n",
    "    public static  Map<String, Cookie> get() {\n",
    "        return requestCookiesThreadLocal.get();\n",
    "    }\n",
    "\n",
    "    public static void clear() {\n",
    "    \trequestCookiesThreadLocal.remove();\n",
    "    }\n",
    "}\n",
    "```"
   ]
  },
  {
   "cell_type": "markdown",
   "id": "9b0222cc",
   "metadata": {
    "slideshow": {
     "slide_type": "notes"
    }
   },
   "source": [
    "Thread local storage can serve as global variables but with a scope private to a particular thread. In this case,\n",
    "we can use it to store the request cookies, which can then be accessed anywhere in the server code by the thread that is handling the request. Different requests will be handled by different threads, which will have their own private thread local storage.\n",
    "\n",
    "The advantage is that the REST resource API does not have to be changed with annotations to capture the cookies (or to use other context invocation information)."
   ]
  },
  {
   "cell_type": "markdown",
   "id": "5951c00a",
   "metadata": {
    "slideshow": {
     "slide_type": "slide"
    }
   },
   "source": [
    "### Intercept REST Requests\n",
    "\n",
    "```java\n",
    "@Provider\n",
    "public class RequestCookiesFilter implements ContainerRequestFilter {\n",
    "\n",
    "    @Override\n",
    "    public void filter(ContainerRequestContext reqCtx) throws IOException {    \t\n",
    "    \tRequestCookies.set( reqCtx.getCookies() );\n",
    "    }\n",
    "}\n",
    "```"
   ]
  },
  {
   "cell_type": "markdown",
   "id": "57fad066",
   "metadata": {
    "slideshow": {
     "slide_type": "slide"
    }
   },
   "source": [
    "### Register the ContainerRequestFilter\n",
    "\n",
    "```java\n",
    "public MainApplication() {\n",
    "\tresources.add(ControlResource.class);\t\t\n",
    "\tresources.add(RequestCookiesFilter.class);\n",
    "    resources.add(Authentication.class);\n",
    "}\n",
    "```"
   ]
  },
  {
   "cell_type": "markdown",
   "id": "4d01a42e",
   "metadata": {
    "slideshow": {
     "slide_type": "notes"
    }
   },
   "source": [
    "Note: We register the filter like we do for normal REST resources."
   ]
  },
  {
   "cell_type": "markdown",
   "id": "91f1687f",
   "metadata": {
    "slideshow": {
     "slide_type": "slide"
    }
   },
   "source": [
    "## Access Control (4)\n",
    "\n",
    "```java\n",
    "static public Session validateSession(String userId) throws NotAuthorizedException {\n",
    "\tvar cookies = RequestCookies.get();\n",
    "\treturn validateSession( cookies.get(COOKIE_KEY ), userId );\n",
    "}\n",
    "\t\n",
    "static public Session validateSession(Cookie cookie, String userId) throws NotAuthorizedException {\n",
    "\n",
    "\tif (cookie == null )\n",
    "\t\tthrow new NotAuthorizedException(\"No session initialized\");\n",
    "\t\t\n",
    "\tvar session = FakeRedisLayer.getInstance().getSession( cookie.getValue());\n",
    "\tif( session == null )\n",
    "\t\tthrow new NotAuthorizedException(\"No valid session initialized\");\n",
    "\t\t\t\n",
    "\tif (session.user() == null || session.user().length() == 0) \n",
    "\t\tthrow new NotAuthorizedException(\"No valid session initialized\");\n",
    "\t\t\n",
    "\tif (!session.user().equals(userId))\n",
    "\t\tthrow new NotAuthorizedException(\"Invalid user : \" + session.user());\n",
    "\t\t\n",
    "\treturn session;\n",
    "}\n",
    "```"
   ]
  },
  {
   "cell_type": "markdown",
   "id": "95bf2326",
   "metadata": {
    "slideshow": {
     "slide_type": "slide"
    }
   },
   "source": [
    "# Access control (5)\n",
    "\n",
    "###  Step 2 - ... check if the user is allowed to execute the operation.\n",
    "\n",
    "\n",
    "In methods that require access control, ***check if the proper*** user is calling the method.\n",
    "\n",
    "```java\n",
    "@Path(\"/ctrl\")\n",
    "public class ControlResource\n",
    "{\n",
    "\t@Path(\"/version\")\n",
    "\t@GET\n",
    "\t@Produces(MediaType.TEXT_HTML)\n",
    "\tpublic String version() {\n",
    "        var session = Authentication.validateSession(ADMIN); // will throw NOT AUTHORIZED\n",
    "        // user admin authenticated\n",
    "    }\n",
    "}\n",
    "```        "
   ]
  },
  {
   "cell_type": "markdown",
   "id": "9eeeb9a0",
   "metadata": {
    "slideshow": {
     "slide_type": "slide"
    }
   },
   "source": [
    "# Sample Code\n",
    "\n",
    "The code provided [scc2425-lab9.zip](scc2425-lab9.zip) exemplify the techniques preseted above.\n",
    "\n",
    "\n",
    "For testing it in the command line, just run:\n",
    "\n",
    "```mvn clean compile package tomcat7:redeploy```\n",
    "\n",
    "Try the control endpoints:\n",
    "\n",
    "[http://127.0.0.1:8080/lab9/rest/ctrl/version](http://127.0.0.1:8080/lab9/rest/ctrl/version)\n",
    "\n",
    "[http://127.0.0.1:8080/lab9/rest/ctrl/version2](http://127.0.0.1:8080/lab9/rest/ctrl/version2)\n",
    "\n",
    "They should fail with `401 Status Code`, meaning Not Authorized\n",
    "\n",
    "Open the login page:\n",
    "\n",
    "[http://127.0.0.1:8080/lab9/rest/login](http://127.0.0.1:8080/lab9/rest/login)\n",
    "\n",
    "Try `admin` and other usernames. Only `admin` should work.\n",
    "\n",
    "Once `admin` is authenticated, both of the endpoints below should work.\n",
    "\n",
    "[http://127.0.0.1:8080/lab9/rest/ctrl/version](http://127.0.0.1:8080/lab9/rest/ctrl/version)\n",
    "\n",
    "[http://127.0.0.1:8080/lab9/rest/ctrl/version2](http://127.0.0.1:8080/lab9/rest/ctrl/version)"
   ]
  },
  {
   "cell_type": "markdown",
   "id": "284a5bee",
   "metadata": {
    "slideshow": {
     "slide_type": "slide"
    }
   },
   "source": [
    "# TO DO\n",
    "\n",
    "\n",
    "Add access control to Tukano Blob Storage. \n",
    "\n",
    "+ Only authenticated users should be able to upload and download blobs. \n",
    "\n",
    "+ Only authenticated 'admin' should be allowed to delete blobs."
   ]
  }
 ],
 "metadata": {
  "celltoolbar": "Slideshow",
  "kernelspec": {
   "display_name": "Python 3 (ipykernel)",
   "language": "python",
   "name": "python3"
  },
  "language_info": {
   "codemirror_mode": {
    "name": "ipython",
    "version": 3
   },
   "file_extension": ".py",
   "mimetype": "text/x-python",
   "name": "python",
   "nbconvert_exporter": "python",
   "pygments_lexer": "ipython3",
   "version": "3.10.9"
  },
  "rise": {
   "theme": "sky"
  }
 },
 "nbformat": 4,
 "nbformat_minor": 5
}
