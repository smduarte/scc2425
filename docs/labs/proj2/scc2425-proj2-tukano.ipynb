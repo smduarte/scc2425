{
 "cells": [
  {
   "cell_type": "code",
   "execution_count": 2,
   "id": "829dc1a7",
   "metadata": {
    "slideshow": {
     "slide_type": "skip"
    }
   },
   "outputs": [],
   "source": [
    "!jupyter nbconvert --to html --TemplateExporter.exclude_code_cell=True --TemplateExporter.exclude_input_prompt=True --TemplateExporter.exclude_output_prompt=True scc2425-proj2-tukano.ipynb 2> /dev/null"
   ]
  },
  {
   "cell_type": "markdown",
   "id": "985abec6",
   "metadata": {
    "slideshow": {
     "slide_type": "slide"
    }
   },
   "source": [
    "# Cloud Computing Systems – 2024/25\n",
    "\n",
    "## Project Assigment #2 \n",
    "\n",
    "### IaaS Tukano \n",
    "\n",
    "Version: 18-11-2024.\n"
   ]
  },
  {
   "cell_type": "markdown",
   "id": "3b70e1cf",
   "metadata": {
    "slideshow": {
     "slide_type": "slide"
    }
   },
   "source": [
    "## Deadlines \n",
    "\n",
    "+ Code & Report: December 6 (0.25 grade points penalty per day late)"
   ]
  },
  {
   "cell_type": "markdown",
   "id": "9275372f",
   "metadata": {},
   "source": [
    "## Execution\n",
    "\n",
    "+ Groups of up to two students. "
   ]
  },
  {
   "cell_type": "markdown",
   "id": "d931a22c",
   "metadata": {
    "slideshow": {
     "slide_type": "slide"
    }
   },
   "source": [
    "## Introduction\n",
    "\n",
    "The goal of this project assignment to adapt and deploy the version of Tukano developed in the context of the first project assignment, using Docker and Kubernetes, as IaaS facilities provided by Azure.\n",
    "\n",
    "The broad challenge is that the solution should strive to retain the features offered in the first assignment, by replacing Azure PaaS services with Kubernetes based alternatives.\n",
    "\n",
    "The solution can leverage existing docker images, already found in Docker Hub, or customized versions of those."
   ]
  },
  {
   "cell_type": "markdown",
   "id": "9d19ab6b",
   "metadata": {
    "slideshow": {
     "slide_type": "slide"
    }
   },
   "source": [
    "## Deliverables\n",
    "\n",
    "The project assignment consists of two deliverables.\n",
    "\n",
    "+ Code and scripts, in the form of a GitHub repository and the commit point representing the finished solution;\n",
    "\n",
    "+ A written report describing the ported solution and explaining how it leverages the Azure IaaS portfolio. This report should also provide a performance evaluation of the solution. The performance analysis should strive to objetively show the impact of the design choices and services on performance metrics such as throughput and operation latency, as well as match the new performance results against those obtained the first assignment. "
   ]
  },
  {
   "cell_type": "markdown",
   "id": "c50d9624",
   "metadata": {
    "slideshow": {
     "slide_type": "slide"
    }
   },
   "source": [
    "## Requirements\n",
    "\n",
    "\n",
    "### Mandatory\n",
    "\n",
    "+ Deploy your application server in Azure Kubernetes Service.<br>\n",
    "\n",
    "+ Deploy the Hibernate + SQL database in Azure Kubernetes Service.\n",
    "  + You will need to prepare or select a suitable Docker image for PostgreSQL, for example;\n",
    "  + As an alternative, you can use a NoSQL database also deployed in Azure Kubernetes Service, such as MongoDB.\n",
    "  \n",
    "+ Use a persistent volume to store media data (replacing the Azure Blob Storage).<br>\n",
    "\n",
    "+ Implement user session authentication for the Blobs Service.<br>\n",
    "\n",
    "+ Test your deployment using artillery. <br>\n",
    "\n",
    "\n",
    "### Optional\n",
    "\n",
    "+ Deploy the caching service (Redis) in Azure Kubernetes Service.<br>\n",
    " + You will need to prepare or select a suitable Docker image for Redis;\n",
    "\n",
    "+ Replace Azure Functions with suitable Kubernetes-based alternatives:\n",
    "\n",
    "+ Deploy the test system in Azure Container Instances and collect results with clients running in different data centers.\n"
   ]
  },
  {
   "cell_type": "markdown",
   "id": "9475b548",
   "metadata": {
    "slideshow": {
     "slide_type": "slide"
    }
   },
   "source": [
    "# Grading\n",
    "\n",
    "Grading will take into acount: code quality, soundness and merit of the design choices, quality and depth of the report. This includes the methodology and analysis of the resuls from the experimental evaluation of the delivered solution.\n",
    "\n",
    "Selected projects may have to be defended in person, in an oral discussion. When justified, separate individual grades will be assigned.  \n",
    "\n",
    "***No need to leave any sort of deployment running or allocated in Azure for grading purposes.***\n",
    "\n",
    "\n",
    "# Penalties\n",
    "\n",
    "Lack of evidence, for example in the Github repository, of a meaninful contribution to the solution on an individual student basis.\n",
    "\n",
    "Excessive use or undisclosed use of AI tools."
   ]
  },
  {
   "cell_type": "markdown",
   "id": "c3452ca8",
   "metadata": {},
   "source": [
    "## FAQ\n",
    "\n",
    "+ Be aware that Azure Kubernetes Service is expensive. All resources should be deleted when not in use.\n",
    "+ In case the group has consumed all the Azure credits, the project can be delivery and tested using a local Kubernetes install."
   ]
  }
 ],
 "metadata": {
  "celltoolbar": "Slideshow",
  "kernelspec": {
   "display_name": "Python 3 (ipykernel)",
   "language": "python",
   "name": "python3"
  },
  "language_info": {
   "codemirror_mode": {
    "name": "ipython",
    "version": 3
   },
   "file_extension": ".py",
   "mimetype": "text/x-python",
   "name": "python",
   "nbconvert_exporter": "python",
   "pygments_lexer": "ipython3",
   "version": "3.10.9"
  }
 },
 "nbformat": 4,
 "nbformat_minor": 5
}
